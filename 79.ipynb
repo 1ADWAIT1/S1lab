{
 "cells": [
  {
   "cell_type": "code",
   "execution_count": null,
   "id": "bbb4309c",
   "metadata": {},
   "outputs": [
    {
     "name": "stdout",
     "output_type": "stream",
     "text": [
      "3 4\n"
     ]
    }
   ],
   "source": [
    "board = [[\"A\",\"B\",\"C\",\"E\"],[\"S\",\"F\",\"C\",\"S\"],[\"A\",\"D\",\"E\",\"E\"]]\n",
    "word = \"ABCCED\"\n",
    "r=len(board)\n",
    "c=len(board[0])\n",
    "w=word[0]\n",
    "out=[]\n",
    "for i in range(r):\n",
    "    for j in range(c):\n",
    "        if board[i][j]==word[0]:\n",
    "            out.append(board[i][j])\n",
    "            break\n",
    "\n",
    "for i in range(r):"
   ]
  }
 ],
 "metadata": {
  "kernelspec": {
   "display_name": "Python 3",
   "language": "python",
   "name": "python3"
  },
  "language_info": {
   "codemirror_mode": {
    "name": "ipython",
    "version": 3
   },
   "file_extension": ".py",
   "mimetype": "text/x-python",
   "name": "python",
   "nbconvert_exporter": "python",
   "pygments_lexer": "ipython3",
   "version": "3.12.0"
  }
 },
 "nbformat": 4,
 "nbformat_minor": 5
}
